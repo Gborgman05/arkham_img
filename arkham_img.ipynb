{
  "nbformat": 4,
  "nbformat_minor": 0,
  "metadata": {
    "colab": {
      "provenance": [],
      "mount_file_id": "1Kl5JY78q-xCDWx5bNmxmPqUjOXeDTd0u",
      "authorship_tag": "ABX9TyNeN7lo2sTtt99Yux37BLIv",
      "include_colab_link": true
    },
    "kernelspec": {
      "name": "python3",
      "display_name": "Python 3"
    },
    "language_info": {
      "name": "python"
    }
  },
  "cells": [
    {
      "cell_type": "markdown",
      "metadata": {
        "id": "view-in-github",
        "colab_type": "text"
      },
      "source": [
        "<a href=\"https://colab.research.google.com/github/Gborgman05/arkham_img/blob/main/arkham_img.ipynb\" target=\"_parent\"><img src=\"https://colab.research.google.com/assets/colab-badge.svg\" alt=\"Open In Colab\"/></a>"
      ]
    },
    {
      "cell_type": "code",
      "execution_count": 8,
      "metadata": {
        "id": "6oSRJr5Gs28b",
        "colab": {
          "base_uri": "https://localhost:8080/"
        },
        "outputId": "e0c2faec-d656-4f28-a39c-ecbe894fdefc"
      },
      "outputs": [
        {
          "output_type": "stream",
          "name": "stdout",
          "text": [
            "http://arkhamdb.com/bundles/cards/05151.png\n"
          ]
        }
      ],
      "source": [
        "import requests\n",
        "import pprint\n",
        "\n",
        "\n",
        "headers = {'Accept': 'application/json'}\n",
        "st = \"wos\"\n",
        "addr = f\"http://arkhamdb.com/api/public/cards/{st}.json\"\n",
        "\n",
        "r = requests.get(addr)\n",
        "save = \"log.json\"\n",
        "with open(save, \"w\") as f:\n",
        "    f.write(str(r.json()))\n",
        "r = r.json()\n",
        "import urllib\n",
        "\n",
        "def download_image(url, file_path, file_name):\n",
        "    full_path = file_path + file_name \n",
        "    urllib.request.urlretrieve(url, full_path)\n",
        "\n",
        "url_pre = \"http://arkhamdb.com\"\n",
        "file_name = r[0]['imagesrc']\n",
        "url = f'{url_pre}{file_name}'\n",
        "print(url)\n",
        "\n",
        "download_image(url, './', f'{r[0][\"name\"]}.png')\n",
        "\n",
        "for card in r:\n",
        "    file_name = card['imagesrc']\n",
        "    url = f'{url_pre}{file_name}'\n",
        "    download_image(url, './img/circle_undone/', f'{card[\"name\"]}.png')\n",
        "    if \"backimagesrc\" in card:\n",
        "        back = card[\"backimagesrc\"]\n",
        "        url2 = f'{url_pre}{back}'\n",
        "        download_image(url, './img/circle_undone/', f'{card[\"name\"]}b.png')\n"
      ]
    },
    {
      "cell_type": "code",
      "source": [
        "import urllib\n",
        "\n",
        "def download_image(url, file_path, file_name):\n",
        "    full_path = file_path + file_name \n",
        "    urllib.request.urlretrieve(url, full_path)\n",
        "\n",
        "url_pre = \"http://arkhamdb.com\"\n",
        "file_name = r[0]['imagesrc']\n",
        "url = f'{url_pre}{file_name}'\n",
        "print(url)\n",
        "\n",
        "download_image(url, './', f'{r[0][\"name\"]}.png')\n"
      ],
      "metadata": {
        "colab": {
          "base_uri": "https://localhost:8080/"
        },
        "id": "GA9qK641t__v",
        "outputId": "76225077-5e94-408c-8032-93f9ca75dc11"
      },
      "execution_count": 5,
      "outputs": [
        {
          "output_type": "stream",
          "name": "stdout",
          "text": [
            "http://arkhamdb.com/bundles/cards/05001.png\n"
          ]
        }
      ]
    },
    {
      "cell_type": "code",
      "source": [
        "for card in r:\n",
        "    file_name = card['imagesrc']\n",
        "    url = f'{url_pre}{file_name}'\n",
        "    download_image(url, './img/circle_undone/', f'{card[\"name\"]}.png')\n",
        "    if \"backimagesrc\" in card:\n",
        "        back = card[\"backimagesrc\"]\n",
        "        url2 = f'{url_pre}{back}'\n",
        "        download_image(url, './img/circle_undone/', f'{card[\"name\"]}b.png')\n"
      ],
      "metadata": {
        "id": "NLtWHagvxkgI"
      },
      "execution_count": 6,
      "outputs": []
    },
    {
      "cell_type": "code",
      "source": [
        "r[0]"
      ],
      "metadata": {
        "colab": {
          "base_uri": "https://localhost:8080/"
        },
        "id": "a4e3R-XZxyau",
        "outputId": "b1758aaa-3cad-4d39-a159-cfbabd95984d"
      },
      "execution_count": null,
      "outputs": [
        {
          "output_type": "execute_result",
          "data": {
            "text/plain": [
              "{'pack_code': 'tskp',\n",
              " 'pack_name': 'The Scarlet Keys Investigator Expansion',\n",
              " 'type_code': 'investigator',\n",
              " 'type_name': 'Investigator',\n",
              " 'faction_code': 'guardian',\n",
              " 'faction_name': 'Guardian',\n",
              " 'position': 1,\n",
              " 'exceptional': False,\n",
              " 'myriad': False,\n",
              " 'code': '09001',\n",
              " 'name': 'Carson Sinclair',\n",
              " 'real_name': 'Carson Sinclair',\n",
              " 'subname': 'The Butler',\n",
              " 'text': 'You may take an additional action during your turn, which can only be used on the below [action] ability.\\n[action]: Choose another investigator at your location. They immediately take an action as if it were their turn. (Limit once per round for each investigator.)\\n[elder_sign] effect: +0. Draw 1 card. You may resolve this effect anytime another investigator at your location resolves their [elder_sign] effect.',\n",
              " 'real_text': 'You may take an additional action during your turn, which can only be used on the below [action] ability.\\n[action]: Choose another investigator at your location. They immediately take an action as if it were their turn. (Limit once per round for each investigator.)\\n[elder_sign] effect: +0. Draw 1 card. You may resolve this effect anytime another investigator at your location resolves their [elder_sign] effect.',\n",
              " 'quantity': 1,\n",
              " 'skill_willpower': 2,\n",
              " 'skill_intellect': 2,\n",
              " 'skill_combat': 2,\n",
              " 'skill_agility': 2,\n",
              " 'health': 6,\n",
              " 'health_per_investigator': False,\n",
              " 'sanity': 6,\n",
              " 'deck_limit': 1,\n",
              " 'traits': 'Assistant.',\n",
              " 'real_traits': 'Assistant.',\n",
              " 'deck_requirements': {'size': 30,\n",
              "  'card': {'09002': {'09002': '09002'}, '09003': {'09003': '09003'}},\n",
              "  'random': [{'target': 'subtype', 'value': 'basicweakness'}]},\n",
              " 'deck_options': [{'faction': ['guardian', 'neutral'],\n",
              "   'level': {'min': 0, 'max': 5}},\n",
              "  {'name': 'Secondary Class',\n",
              "   'faction_select': ['seeker', 'mystic', 'survivor'],\n",
              "   'level': {'min': 0, 'max': 1},\n",
              "   'type': ['event', 'skill'],\n",
              "   'limit': 10}],\n",
              " 'illustrator': 'Magali Villeneuve',\n",
              " 'is_unique': True,\n",
              " 'permanent': False,\n",
              " 'double_sided': True,\n",
              " 'back_text': '<b>Deck Size</b>: 30.\\n<b>Secondary Class Choice</b>: At deck creation, choose Seeker ([seeker]), Mystic ([mystic]), or Survivor ([survivor]).\\n<b>Deckbuilding Options</b>: Guardian cards ([guardian]) level 0-5, Neutral cards level 0-5, up to 10 level 0-1 events and/or skills of your chosen secondary class.\\n<b>Deckbuilding Requirements</b> (do not count toward deck size): 2 copies of \"As you wish\", Selfless to a Fault, 1 random basic weakness.',\n",
              " 'back_flavor': \"Carson Sinclair has served three generations of the Webb family in Arkham. Always proper, Carson watched with disapproval as his most recent employer, Hercule Webb, began bringing bizarre artifacts and profane tomes into the house, aided in these endeavors by Webb's business manager, Dupuis. When Mr. Webb was swallowed by a dimensional rift, no one believed Carson's description of the harrowing event. Carson has devoted himself to proving Dupuis's guilt, and to restoring the children as the rightful heirs to the Webb fortune.\",\n",
              " 'octgn_id': 'c0d1ce2f-73e6-4101-b69b-34290e2a216a:61834bff-59c6-4828-93d1-e2cd519f8e59',\n",
              " 'url': 'https://arkhamdb.com/card/09001',\n",
              " 'imagesrc': '/bundles/cards/09001.png'}"
            ]
          },
          "metadata": {},
          "execution_count": 27
        }
      ]
    },
    {
      "cell_type": "code",
      "source": [
        "r[0]"
      ],
      "metadata": {
        "colab": {
          "base_uri": "https://localhost:8080/"
        },
        "id": "jN7FVVnCtihx",
        "outputId": "5b13dd54-a18d-4c38-ddce-d749b129d44e"
      },
      "execution_count": null,
      "outputs": [
        {
          "output_type": "execute_result",
          "data": {
            "text/plain": [
              "{'pack_code': 'tcu',\n",
              " 'pack_name': 'The Circle Undone',\n",
              " 'type_code': 'investigator',\n",
              " 'type_name': 'Investigator',\n",
              " 'faction_code': 'guardian',\n",
              " 'faction_name': 'Guardian',\n",
              " 'position': 1,\n",
              " 'exceptional': False,\n",
              " 'myriad': False,\n",
              " 'code': '05001',\n",
              " 'name': 'Carolyn Fern',\n",
              " 'real_name': 'Carolyn Fern',\n",
              " 'subname': 'The Psychologist',\n",
              " 'text': \"[reaction] After one of your card effects heals horror from an investigator or [[Ally]] asset: The healed card's controller gains 1 resource.\\n[elder_sign] effect: +1. You may heal 1 horror from an investigator or [[Ally]] asset at your location.\",\n",
              " 'real_text': \"[reaction] After one of your card effects heals horror from an investigator or [[Ally]] asset: The healed card's controller gains 1 resource.\\n[elder_sign] effect: +1. You may heal 1 horror from an investigator or [[Ally]] asset at your location.\",\n",
              " 'errata_date': {'date': '2019-04-23 00:00:00.000000',\n",
              "  'timezone_type': 3,\n",
              "  'timezone': 'UTC'},\n",
              " 'quantity': 1,\n",
              " 'skill_willpower': 3,\n",
              " 'skill_intellect': 4,\n",
              " 'skill_combat': 2,\n",
              " 'skill_agility': 2,\n",
              " 'health': 6,\n",
              " 'health_per_investigator': False,\n",
              " 'sanity': 9,\n",
              " 'deck_limit': 1,\n",
              " 'real_slot': '',\n",
              " 'traits': 'Medic.',\n",
              " 'real_traits': 'Medic.',\n",
              " 'deck_requirements': {'size': 30,\n",
              "  'card': {'05007': {'05007': '05007', '98011': '98011'},\n",
              "   '05008': {'05008': '05008', '98012': '98012'}},\n",
              "  'random': [{'target': 'subtype', 'value': 'basicweakness'}]},\n",
              " 'deck_options': [{'not': True,\n",
              "   'trait': ['weapon'],\n",
              "   'level': {'min': 1, 'max': 5}},\n",
              "  {'faction': ['guardian'], 'level': {'min': 0, 'max': 3}},\n",
              "  {'faction': ['neutral'], 'level': {'min': 0, 'max': 5}},\n",
              "  {'text': ['[Hh]eals? (that much )?(((\\\\d+|all|(X total)) )?damage (from that asset )?(and|or) )?((\\\\d+|all|(X total)) )?horror'],\n",
              "   'tag': ['hh'],\n",
              "   'level': {'min': 0, 'max': 5}},\n",
              "  {'faction': ['seeker', 'mystic'],\n",
              "   'level': {'min': 0, 'max': 1},\n",
              "   'limit': 15,\n",
              "   'error': 'You cannot have more than 15 level 0-1 Seeker and/or Mystic cards'}],\n",
              " 'flavor': 'The mind is fragile, but through understanding, we can protect it.',\n",
              " 'illustrator': 'Shane Pierce',\n",
              " 'is_unique': True,\n",
              " 'permanent': False,\n",
              " 'double_sided': True,\n",
              " 'back_text': '<b>Deck Size</b>: 30.\\n<b>Deckbuilding Options</b>: Guardian cards ([guardian]) level 0-3, Neutral cards level 0-5, cards that \"heal horror\" level 0-5, up to 15 other Seeker and/or Mystic cards level 0-1 ([seeker] and/or [mystic]).\\n<b>Deckbuilding Requirements</b> (do not count toward deck size): Hypnotic Therapy, Rational Thought, 1 random basic weakness.\\n<b>Additional Restrictions</b>: No [[Weapon]] cards level 1-5.',\n",
              " 'back_flavor': 'Visiting psychologist Carolyn Fern\\'s newest patient is Josephine Ruggles, an heiress whose nightmares leave glyph-shaped wounds across her back. Miss Ruggles\\'s case is unusual, even for an institution like Arkham Sanatorium. Her case takes an even stranger turn after she claims to have met Malachi - Carolyn\\'s former patient whose treatment was cut short when he was brutally murdered - in her dreams. When Carolyn uses hypnotherapy to address Josephine\\'s trauma, they find themselves both journeying to a strange place Josephine calls \"the Dreamlands.\"',\n",
              " 'octgn_id': '1d67372b-eadc-4b3c-b0f8-67fa6dbb3634:57e4c960-af10-44cc-9af3-e1f4db571445',\n",
              " 'url': 'https://arkhamdb.com/card/05001',\n",
              " 'imagesrc': '/bundles/cards/05001.png',\n",
              " 'backimagesrc': '/bundles/cards/05001b.png'}"
            ]
          },
          "metadata": {},
          "execution_count": 5
        }
      ]
    }
  ]
}